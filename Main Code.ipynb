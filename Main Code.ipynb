{
  "metadata": {
    "kernelspec": {
      "language": "python",
      "display_name": "Python 3",
      "name": "python3"
    },
    "language_info": {
      "pygments_lexer": "ipython3",
      "nbconvert_exporter": "python",
      "version": "3.6.4",
      "file_extension": ".py",
      "codemirror_mode": {
        "name": "ipython",
        "version": 3
      },
      "name": "python",
      "mimetype": "text/x-python"
    },
    "colab": {
      "provenance": [],
      "toc_visible": true
    }
  },
  "nbformat_minor": 0,
  "nbformat": 4,
  "cells": [
    {
      "cell_type": "markdown",
      "source": [
        "Customer Churn means là tập dữ liệu về dự đoán sự hao hụt khách hàng tại ngân hàng"
      ],
      "metadata": {
        "id": "Mo7ol9bHSEJN"
      }
    },
    {
      "cell_type": "markdown",
      "source": [
        "# 1.Thêm thư viện"
      ],
      "metadata": {
        "id": "ZgsUrpNXvxXF"
      }
    },
    {
      "cell_type": "code",
      "source": [
        "from google.colab import drive\n",
        "drive.mount('/content/drive')"
      ],
      "metadata": {
        "id": "zANHEYLI3y00",
        "colab": {
          "base_uri": "https://localhost:8080/"
        },
        "outputId": "36528cee-2cb6-427b-8efc-785f1ef21138"
      },
      "execution_count": null,
      "outputs": [
        {
          "output_type": "stream",
          "name": "stdout",
          "text": [
            "Mounted at /content/drive\n"
          ]
        }
      ]
    },
    {
      "cell_type": "code",
      "source": [
        "import numpy as np \n",
        "import matplotlib.pyplot as plt\n",
        "import seaborn as sns\n",
        "import pandas as pd\n",
        "import warnings\n",
        "warnings.simplefilter(action='ignore', category=FutureWarning)\n",
        "from tqdm import tqdm\n",
        "from sklearn.preprocessing import LabelEncoder"
      ],
      "metadata": {
        "_uuid": "8f2839f25d086af736a60e9eeb907d3b93b6e0e5",
        "_cell_guid": "b1076dfc-b9ad-4769-8c92-a6c4dae69d19",
        "execution": {
          "iopub.status.busy": "2022-08-07T17:19:47.254433Z",
          "iopub.execute_input": "2022-08-07T17:19:47.255071Z",
          "iopub.status.idle": "2022-08-07T17:19:47.289153Z",
          "shell.execute_reply.started": "2022-08-07T17:19:47.254951Z",
          "shell.execute_reply": "2022-08-07T17:19:47.287739Z"
        },
        "trusted": true,
        "id": "-ZNxU8NOSEJT"
      },
      "execution_count": null,
      "outputs": []
    },
    {
      "cell_type": "markdown",
      "source": [
        "# 2.Đọc dữ liệu"
      ],
      "metadata": {
        "id": "pYf7c-jiv68z"
      }
    },
    {
      "cell_type": "code",
      "source": [
        "df = pd.read_csv('/content/drive/MyDrive/Colab Notebooks/Churn Modeling.csv')\n",
        "df"
      ],
      "metadata": {
        "execution": {
          "iopub.status.busy": "2022-08-07T17:19:47.29185Z",
          "iopub.execute_input": "2022-08-07T17:19:47.292305Z",
          "iopub.status.idle": "2022-08-07T17:19:47.351063Z",
          "shell.execute_reply.started": "2022-08-07T17:19:47.29226Z",
          "shell.execute_reply": "2022-08-07T17:19:47.349924Z"
        },
        "trusted": true,
        "id": "lApp-XgESEJV",
        "colab": {
          "base_uri": "https://localhost:8080/",
          "height": 423
        },
        "outputId": "f8ffde48-bbe0-4dca-cf77-7dc653275bb8"
      },
      "execution_count": null,
      "outputs": [
        {
          "output_type": "execute_result",
          "data": {
            "text/plain": [
              "      RowNumber  CustomerId    Surname  CreditScore Geography  Gender  Age  \\\n",
              "0             1    15634602   Hargrave          619    France  Female   42   \n",
              "1             2    15647311       Hill          608     Spain  Female   41   \n",
              "2             3    15619304       Onio          502    France  Female   42   \n",
              "3             4    15701354       Boni          699    France  Female   39   \n",
              "4             5    15737888   Mitchell          850     Spain  Female   43   \n",
              "...         ...         ...        ...          ...       ...     ...  ...   \n",
              "9995       9996    15606229   Obijiaku          771    France    Male   39   \n",
              "9996       9997    15569892  Johnstone          516    France    Male   35   \n",
              "9997       9998    15584532        Liu          709    France  Female   36   \n",
              "9998       9999    15682355  Sabbatini          772   Germany    Male   42   \n",
              "9999      10000    15628319     Walker          792    France  Female   28   \n",
              "\n",
              "      Tenure    Balance  NumOfProducts  HasCrCard  IsActiveMember  \\\n",
              "0          2       0.00              1          1               1   \n",
              "1          1   83807.86              1          0               1   \n",
              "2          8  159660.80              3          1               0   \n",
              "3          1       0.00              2          0               0   \n",
              "4          2  125510.82              1          1               1   \n",
              "...      ...        ...            ...        ...             ...   \n",
              "9995       5       0.00              2          1               0   \n",
              "9996      10   57369.61              1          1               1   \n",
              "9997       7       0.00              1          0               1   \n",
              "9998       3   75075.31              2          1               0   \n",
              "9999       4  130142.79              1          1               0   \n",
              "\n",
              "      EstimatedSalary  Exited  \n",
              "0           101348.88       1  \n",
              "1           112542.58       0  \n",
              "2           113931.57       1  \n",
              "3            93826.63       0  \n",
              "4            79084.10       0  \n",
              "...               ...     ...  \n",
              "9995         96270.64       0  \n",
              "9996        101699.77       0  \n",
              "9997         42085.58       1  \n",
              "9998         92888.52       1  \n",
              "9999         38190.78       0  \n",
              "\n",
              "[10000 rows x 14 columns]"
            ],
            "text/html": [
              "\n",
              "  <div id=\"df-8aa38f96-dc70-46ca-b842-7a8d95b1dc98\">\n",
              "    <div class=\"colab-df-container\">\n",
              "      <div>\n",
              "<style scoped>\n",
              "    .dataframe tbody tr th:only-of-type {\n",
              "        vertical-align: middle;\n",
              "    }\n",
              "\n",
              "    .dataframe tbody tr th {\n",
              "        vertical-align: top;\n",
              "    }\n",
              "\n",
              "    .dataframe thead th {\n",
              "        text-align: right;\n",
              "    }\n",
              "</style>\n",
              "<table border=\"1\" class=\"dataframe\">\n",
              "  <thead>\n",
              "    <tr style=\"text-align: right;\">\n",
              "      <th></th>\n",
              "      <th>RowNumber</th>\n",
              "      <th>CustomerId</th>\n",
              "      <th>Surname</th>\n",
              "      <th>CreditScore</th>\n",
              "      <th>Geography</th>\n",
              "      <th>Gender</th>\n",
              "      <th>Age</th>\n",
              "      <th>Tenure</th>\n",
              "      <th>Balance</th>\n",
              "      <th>NumOfProducts</th>\n",
              "      <th>HasCrCard</th>\n",
              "      <th>IsActiveMember</th>\n",
              "      <th>EstimatedSalary</th>\n",
              "      <th>Exited</th>\n",
              "    </tr>\n",
              "  </thead>\n",
              "  <tbody>\n",
              "    <tr>\n",
              "      <th>0</th>\n",
              "      <td>1</td>\n",
              "      <td>15634602</td>\n",
              "      <td>Hargrave</td>\n",
              "      <td>619</td>\n",
              "      <td>France</td>\n",
              "      <td>Female</td>\n",
              "      <td>42</td>\n",
              "      <td>2</td>\n",
              "      <td>0.00</td>\n",
              "      <td>1</td>\n",
              "      <td>1</td>\n",
              "      <td>1</td>\n",
              "      <td>101348.88</td>\n",
              "      <td>1</td>\n",
              "    </tr>\n",
              "    <tr>\n",
              "      <th>1</th>\n",
              "      <td>2</td>\n",
              "      <td>15647311</td>\n",
              "      <td>Hill</td>\n",
              "      <td>608</td>\n",
              "      <td>Spain</td>\n",
              "      <td>Female</td>\n",
              "      <td>41</td>\n",
              "      <td>1</td>\n",
              "      <td>83807.86</td>\n",
              "      <td>1</td>\n",
              "      <td>0</td>\n",
              "      <td>1</td>\n",
              "      <td>112542.58</td>\n",
              "      <td>0</td>\n",
              "    </tr>\n",
              "    <tr>\n",
              "      <th>2</th>\n",
              "      <td>3</td>\n",
              "      <td>15619304</td>\n",
              "      <td>Onio</td>\n",
              "      <td>502</td>\n",
              "      <td>France</td>\n",
              "      <td>Female</td>\n",
              "      <td>42</td>\n",
              "      <td>8</td>\n",
              "      <td>159660.80</td>\n",
              "      <td>3</td>\n",
              "      <td>1</td>\n",
              "      <td>0</td>\n",
              "      <td>113931.57</td>\n",
              "      <td>1</td>\n",
              "    </tr>\n",
              "    <tr>\n",
              "      <th>3</th>\n",
              "      <td>4</td>\n",
              "      <td>15701354</td>\n",
              "      <td>Boni</td>\n",
              "      <td>699</td>\n",
              "      <td>France</td>\n",
              "      <td>Female</td>\n",
              "      <td>39</td>\n",
              "      <td>1</td>\n",
              "      <td>0.00</td>\n",
              "      <td>2</td>\n",
              "      <td>0</td>\n",
              "      <td>0</td>\n",
              "      <td>93826.63</td>\n",
              "      <td>0</td>\n",
              "    </tr>\n",
              "    <tr>\n",
              "      <th>4</th>\n",
              "      <td>5</td>\n",
              "      <td>15737888</td>\n",
              "      <td>Mitchell</td>\n",
              "      <td>850</td>\n",
              "      <td>Spain</td>\n",
              "      <td>Female</td>\n",
              "      <td>43</td>\n",
              "      <td>2</td>\n",
              "      <td>125510.82</td>\n",
              "      <td>1</td>\n",
              "      <td>1</td>\n",
              "      <td>1</td>\n",
              "      <td>79084.10</td>\n",
              "      <td>0</td>\n",
              "    </tr>\n",
              "    <tr>\n",
              "      <th>...</th>\n",
              "      <td>...</td>\n",
              "      <td>...</td>\n",
              "      <td>...</td>\n",
              "      <td>...</td>\n",
              "      <td>...</td>\n",
              "      <td>...</td>\n",
              "      <td>...</td>\n",
              "      <td>...</td>\n",
              "      <td>...</td>\n",
              "      <td>...</td>\n",
              "      <td>...</td>\n",
              "      <td>...</td>\n",
              "      <td>...</td>\n",
              "      <td>...</td>\n",
              "    </tr>\n",
              "    <tr>\n",
              "      <th>9995</th>\n",
              "      <td>9996</td>\n",
              "      <td>15606229</td>\n",
              "      <td>Obijiaku</td>\n",
              "      <td>771</td>\n",
              "      <td>France</td>\n",
              "      <td>Male</td>\n",
              "      <td>39</td>\n",
              "      <td>5</td>\n",
              "      <td>0.00</td>\n",
              "      <td>2</td>\n",
              "      <td>1</td>\n",
              "      <td>0</td>\n",
              "      <td>96270.64</td>\n",
              "      <td>0</td>\n",
              "    </tr>\n",
              "    <tr>\n",
              "      <th>9996</th>\n",
              "      <td>9997</td>\n",
              "      <td>15569892</td>\n",
              "      <td>Johnstone</td>\n",
              "      <td>516</td>\n",
              "      <td>France</td>\n",
              "      <td>Male</td>\n",
              "      <td>35</td>\n",
              "      <td>10</td>\n",
              "      <td>57369.61</td>\n",
              "      <td>1</td>\n",
              "      <td>1</td>\n",
              "      <td>1</td>\n",
              "      <td>101699.77</td>\n",
              "      <td>0</td>\n",
              "    </tr>\n",
              "    <tr>\n",
              "      <th>9997</th>\n",
              "      <td>9998</td>\n",
              "      <td>15584532</td>\n",
              "      <td>Liu</td>\n",
              "      <td>709</td>\n",
              "      <td>France</td>\n",
              "      <td>Female</td>\n",
              "      <td>36</td>\n",
              "      <td>7</td>\n",
              "      <td>0.00</td>\n",
              "      <td>1</td>\n",
              "      <td>0</td>\n",
              "      <td>1</td>\n",
              "      <td>42085.58</td>\n",
              "      <td>1</td>\n",
              "    </tr>\n",
              "    <tr>\n",
              "      <th>9998</th>\n",
              "      <td>9999</td>\n",
              "      <td>15682355</td>\n",
              "      <td>Sabbatini</td>\n",
              "      <td>772</td>\n",
              "      <td>Germany</td>\n",
              "      <td>Male</td>\n",
              "      <td>42</td>\n",
              "      <td>3</td>\n",
              "      <td>75075.31</td>\n",
              "      <td>2</td>\n",
              "      <td>1</td>\n",
              "      <td>0</td>\n",
              "      <td>92888.52</td>\n",
              "      <td>1</td>\n",
              "    </tr>\n",
              "    <tr>\n",
              "      <th>9999</th>\n",
              "      <td>10000</td>\n",
              "      <td>15628319</td>\n",
              "      <td>Walker</td>\n",
              "      <td>792</td>\n",
              "      <td>France</td>\n",
              "      <td>Female</td>\n",
              "      <td>28</td>\n",
              "      <td>4</td>\n",
              "      <td>130142.79</td>\n",
              "      <td>1</td>\n",
              "      <td>1</td>\n",
              "      <td>0</td>\n",
              "      <td>38190.78</td>\n",
              "      <td>0</td>\n",
              "    </tr>\n",
              "  </tbody>\n",
              "</table>\n",
              "<p>10000 rows × 14 columns</p>\n",
              "</div>\n",
              "      <button class=\"colab-df-convert\" onclick=\"convertToInteractive('df-8aa38f96-dc70-46ca-b842-7a8d95b1dc98')\"\n",
              "              title=\"Convert this dataframe to an interactive table.\"\n",
              "              style=\"display:none;\">\n",
              "        \n",
              "  <svg xmlns=\"http://www.w3.org/2000/svg\" height=\"24px\"viewBox=\"0 0 24 24\"\n",
              "       width=\"24px\">\n",
              "    <path d=\"M0 0h24v24H0V0z\" fill=\"none\"/>\n",
              "    <path d=\"M18.56 5.44l.94 2.06.94-2.06 2.06-.94-2.06-.94-.94-2.06-.94 2.06-2.06.94zm-11 1L8.5 8.5l.94-2.06 2.06-.94-2.06-.94L8.5 2.5l-.94 2.06-2.06.94zm10 10l.94 2.06.94-2.06 2.06-.94-2.06-.94-.94-2.06-.94 2.06-2.06.94z\"/><path d=\"M17.41 7.96l-1.37-1.37c-.4-.4-.92-.59-1.43-.59-.52 0-1.04.2-1.43.59L10.3 9.45l-7.72 7.72c-.78.78-.78 2.05 0 2.83L4 21.41c.39.39.9.59 1.41.59.51 0 1.02-.2 1.41-.59l7.78-7.78 2.81-2.81c.8-.78.8-2.07 0-2.86zM5.41 20L4 18.59l7.72-7.72 1.47 1.35L5.41 20z\"/>\n",
              "  </svg>\n",
              "      </button>\n",
              "      \n",
              "  <style>\n",
              "    .colab-df-container {\n",
              "      display:flex;\n",
              "      flex-wrap:wrap;\n",
              "      gap: 12px;\n",
              "    }\n",
              "\n",
              "    .colab-df-convert {\n",
              "      background-color: #E8F0FE;\n",
              "      border: none;\n",
              "      border-radius: 50%;\n",
              "      cursor: pointer;\n",
              "      display: none;\n",
              "      fill: #1967D2;\n",
              "      height: 32px;\n",
              "      padding: 0 0 0 0;\n",
              "      width: 32px;\n",
              "    }\n",
              "\n",
              "    .colab-df-convert:hover {\n",
              "      background-color: #E2EBFA;\n",
              "      box-shadow: 0px 1px 2px rgba(60, 64, 67, 0.3), 0px 1px 3px 1px rgba(60, 64, 67, 0.15);\n",
              "      fill: #174EA6;\n",
              "    }\n",
              "\n",
              "    [theme=dark] .colab-df-convert {\n",
              "      background-color: #3B4455;\n",
              "      fill: #D2E3FC;\n",
              "    }\n",
              "\n",
              "    [theme=dark] .colab-df-convert:hover {\n",
              "      background-color: #434B5C;\n",
              "      box-shadow: 0px 1px 3px 1px rgba(0, 0, 0, 0.15);\n",
              "      filter: drop-shadow(0px 1px 2px rgba(0, 0, 0, 0.3));\n",
              "      fill: #FFFFFF;\n",
              "    }\n",
              "  </style>\n",
              "\n",
              "      <script>\n",
              "        const buttonEl =\n",
              "          document.querySelector('#df-8aa38f96-dc70-46ca-b842-7a8d95b1dc98 button.colab-df-convert');\n",
              "        buttonEl.style.display =\n",
              "          google.colab.kernel.accessAllowed ? 'block' : 'none';\n",
              "\n",
              "        async function convertToInteractive(key) {\n",
              "          const element = document.querySelector('#df-8aa38f96-dc70-46ca-b842-7a8d95b1dc98');\n",
              "          const dataTable =\n",
              "            await google.colab.kernel.invokeFunction('convertToInteractive',\n",
              "                                                     [key], {});\n",
              "          if (!dataTable) return;\n",
              "\n",
              "          const docLinkHtml = 'Like what you see? Visit the ' +\n",
              "            '<a target=\"_blank\" href=https://colab.research.google.com/notebooks/data_table.ipynb>data table notebook</a>'\n",
              "            + ' to learn more about interactive tables.';\n",
              "          element.innerHTML = '';\n",
              "          dataTable['output_type'] = 'display_data';\n",
              "          await google.colab.output.renderOutput(dataTable, element);\n",
              "          const docLink = document.createElement('div');\n",
              "          docLink.innerHTML = docLinkHtml;\n",
              "          element.appendChild(docLink);\n",
              "        }\n",
              "      </script>\n",
              "    </div>\n",
              "  </div>\n",
              "  "
            ]
          },
          "metadata": {},
          "execution_count": 3
        }
      ]
    },
    {
      "cell_type": "markdown",
      "source": [
        "# 3.Xử lý dữ liệu"
      ],
      "metadata": {
        "id": "JIejsCXBv4E9"
      }
    },
    {
      "cell_type": "markdown",
      "source": [
        "## 3.1.Xóa 3 cột RowNumber, CustomerId, Surname trong tập dữ liệu"
      ],
      "metadata": {
        "id": "5wnF0kJqSEJX"
      }
    },
    {
      "cell_type": "code",
      "source": [
        "df.drop(['RowNumber','CustomerId','Surname'],axis=1,inplace = True)\n",
        "df.shape"
      ],
      "metadata": {
        "execution": {
          "iopub.status.busy": "2022-08-07T17:19:47.400612Z",
          "iopub.execute_input": "2022-08-07T17:19:47.401281Z",
          "iopub.status.idle": "2022-08-07T17:19:47.420622Z",
          "shell.execute_reply.started": "2022-08-07T17:19:47.401249Z",
          "shell.execute_reply": "2022-08-07T17:19:47.419027Z"
        },
        "trusted": true,
        "id": "Zm1-9BTgSEJY",
        "colab": {
          "base_uri": "https://localhost:8080/"
        },
        "outputId": "5d3cb520-270d-4eec-d826-d737cefc9e32"
      },
      "execution_count": null,
      "outputs": [
        {
          "output_type": "execute_result",
          "data": {
            "text/plain": [
              "(10000, 11)"
            ]
          },
          "metadata": {},
          "execution_count": 4
        }
      ]
    },
    {
      "cell_type": "markdown",
      "source": [
        "## 3.2.Kiểm tra dữ liệu trống"
      ],
      "metadata": {
        "id": "9q4JYshaSEJZ"
      }
    },
    {
      "cell_type": "code",
      "source": [
        "df.isnull().values.any()"
      ],
      "metadata": {
        "execution": {
          "iopub.status.busy": "2022-08-07T17:19:47.454191Z",
          "iopub.execute_input": "2022-08-07T17:19:47.454836Z",
          "iopub.status.idle": "2022-08-07T17:19:47.463755Z",
          "shell.execute_reply.started": "2022-08-07T17:19:47.454797Z",
          "shell.execute_reply": "2022-08-07T17:19:47.462403Z"
        },
        "trusted": true,
        "id": "O5mQLH1vSEJZ",
        "colab": {
          "base_uri": "https://localhost:8080/"
        },
        "outputId": "17620103-d520-4ad0-8d3c-8101fa39d0ff"
      },
      "execution_count": null,
      "outputs": [
        {
          "output_type": "execute_result",
          "data": {
            "text/plain": [
              "False"
            ]
          },
          "metadata": {},
          "execution_count": 5
        }
      ]
    },
    {
      "cell_type": "code",
      "source": [
        "df.dtypes"
      ],
      "metadata": {
        "execution": {
          "iopub.status.busy": "2022-08-07T17:19:47.4736Z",
          "iopub.execute_input": "2022-08-07T17:19:47.474099Z",
          "iopub.status.idle": "2022-08-07T17:19:47.48518Z",
          "shell.execute_reply.started": "2022-08-07T17:19:47.474063Z",
          "shell.execute_reply": "2022-08-07T17:19:47.483761Z"
        },
        "trusted": true,
        "id": "6oWLseeUSEJa",
        "colab": {
          "base_uri": "https://localhost:8080/"
        },
        "outputId": "25c84a1f-4f47-4fca-998e-44148acc2122"
      },
      "execution_count": null,
      "outputs": [
        {
          "output_type": "execute_result",
          "data": {
            "text/plain": [
              "CreditScore          int64\n",
              "Geography           object\n",
              "Gender              object\n",
              "Age                  int64\n",
              "Tenure               int64\n",
              "Balance            float64\n",
              "NumOfProducts        int64\n",
              "HasCrCard            int64\n",
              "IsActiveMember       int64\n",
              "EstimatedSalary    float64\n",
              "Exited               int64\n",
              "dtype: object"
            ]
          },
          "metadata": {},
          "execution_count": 6
        }
      ]
    },
    {
      "cell_type": "markdown",
      "source": [
        "## 3.3.Kiểm tra outliers"
      ],
      "metadata": {
        "id": "BEcNy9S2SEJb"
      }
    },
    {
      "cell_type": "code",
      "source": [
        "numeric = df.select_dtypes(exclude='object')\n",
        "cols_to_check = [col for col in numeric.columns if col not in ['y']]\n",
        "cols_to_check"
      ],
      "metadata": {
        "execution": {
          "iopub.status.busy": "2022-08-07T17:19:47.53908Z",
          "iopub.execute_input": "2022-08-07T17:19:47.539868Z",
          "iopub.status.idle": "2022-08-07T17:19:47.594459Z",
          "shell.execute_reply.started": "2022-08-07T17:19:47.539831Z",
          "shell.execute_reply": "2022-08-07T17:19:47.59314Z"
        },
        "trusted": true,
        "id": "fC0cjcexSEJb",
        "colab": {
          "base_uri": "https://localhost:8080/"
        },
        "outputId": "b7b45385-cf73-4837-a160-8f2f44bdb1c1"
      },
      "execution_count": null,
      "outputs": [
        {
          "output_type": "execute_result",
          "data": {
            "text/plain": [
              "['CreditScore',\n",
              " 'Age',\n",
              " 'Tenure',\n",
              " 'Balance',\n",
              " 'NumOfProducts',\n",
              " 'HasCrCard',\n",
              " 'IsActiveMember',\n",
              " 'EstimatedSalary',\n",
              " 'Exited']"
            ]
          },
          "metadata": {},
          "execution_count": 7
        }
      ]
    },
    {
      "cell_type": "code",
      "source": [
        "#boxplot on numerical features to find outliers\n",
        "plt.figure(figsize=(20,60), facecolor='white')\n",
        "plotnumber =1\n",
        "for numerical_feature in numeric:\n",
        "    ax = plt.subplot(12,3,plotnumber)\n",
        "    sns.boxplot(df[numerical_feature])\n",
        "    plt.xlabel(numerical_feature)\n",
        "    plotnumber+=1\n",
        "plt.show()"
      ],
      "metadata": {
        "id": "CRsO4M-05Ftv",
        "colab": {
          "base_uri": "https://localhost:8080/",
          "height": 843
        },
        "outputId": "6d89c5cf-86f9-450a-e18b-7ffb158187c0"
      },
      "execution_count": null,
      "outputs": [
        {
          "output_type": "display_data",
          "data": {
            "text/plain": [
              "<Figure size 1440x4320 with 9 Axes>"
            ],
            "image/png": "[encoded data removed]"
          },
          "metadata": {}
        }
      ]
    },
    {
      "cell_type": "code",
      "source": [
        "#Xóa giá trị Age >= 75 tuổi\n",
        "df = df[df['Age'] <= 75]\n",
        "df"
      ],
      "metadata": {
        "id": "8eqtUh2zuEP1",
        "colab": {
          "base_uri": "https://localhost:8080/",
          "height": 423
        },
        "outputId": "b1f51489-237c-438a-8549-eb3c560f0944"
      },
      "execution_count": null,
      "outputs": [
        {
          "output_type": "execute_result",
          "data": {
            "text/plain": [
              "      CreditScore Geography  Gender  Age  Tenure    Balance  NumOfProducts  \\\n",
              "0             619    France  Female   42       2       0.00              1   \n",
              "1             608     Spain  Female   41       1   83807.86              1   \n",
              "2             502    France  Female   42       8  159660.80              3   \n",
              "3             699    France  Female   39       1       0.00              2   \n",
              "4             850     Spain  Female   43       2  125510.82              1   \n",
              "...           ...       ...     ...  ...     ...        ...            ...   \n",
              "9995          771    France    Male   39       5       0.00              2   \n",
              "9996          516    France    Male   35      10   57369.61              1   \n",
              "9997          709    France  Female   36       7       0.00              1   \n",
              "9998          772   Germany    Male   42       3   75075.31              2   \n",
              "9999          792    France  Female   28       4  130142.79              1   \n",
              "\n",
              "      HasCrCard  IsActiveMember  EstimatedSalary  Exited  \n",
              "0             1               1        101348.88       1  \n",
              "1             0               1        112542.58       0  \n",
              "2             1               0        113931.57       1  \n",
              "3             0               0         93826.63       0  \n",
              "4             1               1         79084.10       0  \n",
              "...         ...             ...              ...     ...  \n",
              "9995          1               0         96270.64       0  \n",
              "9996          1               1        101699.77       0  \n",
              "9997          0               1         42085.58       1  \n",
              "9998          1               0         92888.52       1  \n",
              "9999          1               0         38190.78       0  \n",
              "\n",
              "[9955 rows x 11 columns]"
            ],
            "text/html": [
              "\n",
              "  <div id=\"df-731df4f3-dfd9-433e-a26e-d72f71c66619\">\n",
              "    <div class=\"colab-df-container\">\n",
              "      <div>\n",
              "<style scoped>\n",
              "    .dataframe tbody tr th:only-of-type {\n",
              "        vertical-align: middle;\n",
              "    }\n",
              "\n",
              "    .dataframe tbody tr th {\n",
              "        vertical-align: top;\n",
              "    }\n",
              "\n",
              "    .dataframe thead th {\n",
              "        text-align: right;\n",
              "    }\n",
              "</style>\n",
              "<table border=\"1\" class=\"dataframe\">\n",
              "  <thead>\n",
              "    <tr style=\"text-align: right;\">\n",
              "      <th></th>\n",
              "      <th>CreditScore</th>\n",
              "      <th>Geography</th>\n",
              "      <th>Gender</th>\n",
              "      <th>Age</th>\n",
              "      <th>Tenure</th>\n",
              "      <th>Balance</th>\n",
              "      <th>NumOfProducts</th>\n",
              "      <th>HasCrCard</th>\n",
              "      <th>IsActiveMember</th>\n",
              "      <th>EstimatedSalary</th>\n",
              "      <th>Exited</th>\n",
              "    </tr>\n",
              "  </thead>\n",
              "  <tbody>\n",
              "    <tr>\n",
              "      <th>0</th>\n",
              "      <td>619</td>\n",
              "      <td>France</td>\n",
              "      <td>Female</td>\n",
              "      <td>42</td>\n",
              "      <td>2</td>\n",
              "      <td>0.00</td>\n",
              "      <td>1</td>\n",
              "      <td>1</td>\n",
              "      <td>1</td>\n",
              "      <td>101348.88</td>\n",
              "      <td>1</td>\n",
              "    </tr>\n",
              "    <tr>\n",
              "      <th>1</th>\n",
              "      <td>608</td>\n",
              "      <td>Spain</td>\n",
              "      <td>Female</td>\n",
              "      <td>41</td>\n",
              "      <td>1</td>\n",
              "      <td>83807.86</td>\n",
              "      <td>1</td>\n",
              "      <td>0</td>\n",
              "      <td>1</td>\n",
              "      <td>112542.58</td>\n",
              "      <td>0</td>\n",
              "    </tr>\n",
              "    <tr>\n",
              "      <th>2</th>\n",
              "      <td>502</td>\n",
              "      <td>France</td>\n",
              "      <td>Female</td>\n",
              "      <td>42</td>\n",
              "      <td>8</td>\n",
              "      <td>159660.80</td>\n",
              "      <td>3</td>\n",
              "      <td>1</td>\n",
              "      <td>0</td>\n",
              "      <td>113931.57</td>\n",
              "      <td>1</td>\n",
              "    </tr>\n",
              "    <tr>\n",
              "      <th>3</th>\n",
              "      <td>699</td>\n",
              "      <td>France</td>\n",
              "      <td>Female</td>\n",
              "      <td>39</td>\n",
              "      <td>1</td>\n",
              "      <td>0.00</td>\n",
              "      <td>2</td>\n",
              "      <td>0</td>\n",
              "      <td>0</td>\n",
              "      <td>93826.63</td>\n",
              "      <td>0</td>\n",
              "    </tr>\n",
              "    <tr>\n",
              "      <th>4</th>\n",
              "      <td>850</td>\n",
              "      <td>Spain</td>\n",
              "      <td>Female</td>\n",
              "      <td>43</td>\n",
              "      <td>2</td>\n",
              "      <td>125510.82</td>\n",
              "      <td>1</td>\n",
              "      <td>1</td>\n",
              "      <td>1</td>\n",
              "      <td>79084.10</td>\n",
              "      <td>0</td>\n",
              "    </tr>\n",
              "    <tr>\n",
              "      <th>...</th>\n",
              "      <td>...</td>\n",
              "      <td>...</td>\n",
              "      <td>...</td>\n",
              "      <td>...</td>\n",
              "      <td>...</td>\n",
              "      <td>...</td>\n",
              "      <td>...</td>\n",
              "      <td>...</td>\n",
              "      <td>...</td>\n",
              "      <td>...</td>\n",
              "      <td>...</td>\n",
              "    </tr>\n",
              "    <tr>\n",
              "      <th>9995</th>\n",
              "      <td>771</td>\n",
              "      <td>France</td>\n",
              "      <td>Male</td>\n",
              "      <td>39</td>\n",
              "      <td>5</td>\n",
              "      <td>0.00</td>\n",
              "      <td>2</td>\n",
              "      <td>1</td>\n",
              "      <td>0</td>\n",
              "      <td>96270.64</td>\n",
              "      <td>0</td>\n",
              "    </tr>\n",
              "    <tr>\n",
              "      <th>9996</th>\n",
              "      <td>516</td>\n",
              "      <td>France</td>\n",
              "      <td>Male</td>\n",
              "      <td>35</td>\n",
              "      <td>10</td>\n",
              "      <td>57369.61</td>\n",
              "      <td>1</td>\n",
              "      <td>1</td>\n",
              "      <td>1</td>\n",
              "      <td>101699.77</td>\n",
              "      <td>0</td>\n",
              "    </tr>\n",
              "    <tr>\n",
              "      <th>9997</th>\n",
              "      <td>709</td>\n",
              "      <td>France</td>\n",
              "      <td>Female</td>\n",
              "      <td>36</td>\n",
              "      <td>7</td>\n",
              "      <td>0.00</td>\n",
              "      <td>1</td>\n",
              "      <td>0</td>\n",
              "      <td>1</td>\n",
              "      <td>42085.58</td>\n",
              "      <td>1</td>\n",
              "    </tr>\n",
              "    <tr>\n",
              "      <th>9998</th>\n",
              "      <td>772</td>\n",
              "      <td>Germany</td>\n",
              "      <td>Male</td>\n",
              "      <td>42</td>\n",
              "      <td>3</td>\n",
              "      <td>75075.31</td>\n",
              "      <td>2</td>\n",
              "      <td>1</td>\n",
              "      <td>0</td>\n",
              "      <td>92888.52</td>\n",
              "      <td>1</td>\n",
              "    </tr>\n",
              "    <tr>\n",
              "      <th>9999</th>\n",
              "      <td>792</td>\n",
              "      <td>France</td>\n",
              "      <td>Female</td>\n",
              "      <td>28</td>\n",
              "      <td>4</td>\n",
              "      <td>130142.79</td>\n",
              "      <td>1</td>\n",
              "      <td>1</td>\n",
              "      <td>0</td>\n",
              "      <td>38190.78</td>\n",
              "      <td>0</td>\n",
              "    </tr>\n",
              "  </tbody>\n",
              "</table>\n",
              "<p>9955 rows × 11 columns</p>\n",
              "</div>\n",
              "      <button class=\"colab-df-convert\" onclick=\"convertToInteractive('df-731df4f3-dfd9-433e-a26e-d72f71c66619')\"\n",
              "              title=\"Convert this dataframe to an interactive table.\"\n",
              "              style=\"display:none;\">\n",
              "        \n",
              "  <svg xmlns=\"http://www.w3.org/2000/svg\" height=\"24px\"viewBox=\"0 0 24 24\"\n",
              "       width=\"24px\">\n",
              "    <path d=\"M0 0h24v24H0V0z\" fill=\"none\"/>\n",
              "    <path d=\"M18.56 5.44l.94 2.06.94-2.06 2.06-.94-2.06-.94-.94-2.06-.94 2.06-2.06.94zm-11 1L8.5 8.5l.94-2.06 2.06-.94-2.06-.94L8.5 2.5l-.94 2.06-2.06.94zm10 10l.94 2.06.94-2.06 2.06-.94-2.06-.94-.94-2.06-.94 2.06-2.06.94z\"/><path d=\"M17.41 7.96l-1.37-1.37c-.4-.4-.92-.59-1.43-.59-.52 0-1.04.2-1.43.59L10.3 9.45l-7.72 7.72c-.78.78-.78 2.05 0 2.83L4 21.41c.39.39.9.59 1.41.59.51 0 1.02-.2 1.41-.59l7.78-7.78 2.81-2.81c.8-.78.8-2.07 0-2.86zM5.41 20L4 18.59l7.72-7.72 1.47 1.35L5.41 20z\"/>\n",
              "  </svg>\n",
              "      </button>\n",
              "      \n",
              "  <style>\n",
              "    .colab-df-container {\n",
              "      display:flex;\n",
              "      flex-wrap:wrap;\n",
              "      gap: 12px;\n",
              "    }\n",
              "\n",
              "    .colab-df-convert {\n",
              "      background-color: #E8F0FE;\n",
              "      border: none;\n",
              "      border-radius: 50%;\n",
              "      cursor: pointer;\n",
              "      display: none;\n",
              "      fill: #1967D2;\n",
              "      height: 32px;\n",
              "      padding: 0 0 0 0;\n",
              "      width: 32px;\n",
              "    }\n",
              "\n",
              "    .colab-df-convert:hover {\n",
              "      background-color: #E2EBFA;\n",
              "      box-shadow: 0px 1px 2px rgba(60, 64, 67, 0.3), 0px 1px 3px 1px rgba(60, 64, 67, 0.15);\n",
              "      fill: #174EA6;\n",
              "    }\n",
              "\n",
              "    [theme=dark] .colab-df-convert {\n",
              "      background-color: #3B4455;\n",
              "      fill: #D2E3FC;\n",
              "    }\n",
              "\n",
              "    [theme=dark] .colab-df-convert:hover {\n",
              "      background-color: #434B5C;\n",
              "      box-shadow: 0px 1px 3px 1px rgba(0, 0, 0, 0.15);\n",
              "      filter: drop-shadow(0px 1px 2px rgba(0, 0, 0, 0.3));\n",
              "      fill: #FFFFFF;\n",
              "    }\n",
              "  </style>\n",
              "\n",
              "      <script>\n",
              "        const buttonEl =\n",
              "          document.querySelector('#df-731df4f3-dfd9-433e-a26e-d72f71c66619 button.colab-df-convert');\n",
              "        buttonEl.style.display =\n",
              "          google.colab.kernel.accessAllowed ? 'block' : 'none';\n",
              "\n",
              "        async function convertToInteractive(key) {\n",
              "          const element = document.querySelector('#df-731df4f3-dfd9-433e-a26e-d72f71c66619');\n",
              "          const dataTable =\n",
              "            await google.colab.kernel.invokeFunction('convertToInteractive',\n",
              "                                                     [key], {});\n",
              "          if (!dataTable) return;\n",
              "\n",
              "          const docLinkHtml = 'Like what you see? Visit the ' +\n",
              "            '<a target=\"_blank\" href=https://colab.research.google.com/notebooks/data_table.ipynb>data table notebook</a>'\n",
              "            + ' to learn more about interactive tables.';\n",
              "          element.innerHTML = '';\n",
              "          dataTable['output_type'] = 'display_data';\n",
              "          await google.colab.output.renderOutput(dataTable, element);\n",
              "          const docLink = document.createElement('div');\n",
              "          docLink.innerHTML = docLinkHtml;\n",
              "          element.appendChild(docLink);\n",
              "        }\n",
              "      </script>\n",
              "    </div>\n",
              "  </div>\n",
              "  "
            ]
          },
          "metadata": {},
          "execution_count": 9
        }
      ]
    },
    {
      "cell_type": "markdown",
      "source": [
        "## 3.4.Sử dụng One Hot Coding chuyển đổi dữ liệu cho 2 cột Geography và Gender"
      ],
      "metadata": {
        "id": "c3-cy7yRSEJf"
      }
    },
    {
      "cell_type": "code",
      "source": [
        "one_hot = ['Geography', 'Gender']"
      ],
      "metadata": {
        "id": "8oaNe8I6Ar1r"
      },
      "execution_count": null,
      "outputs": []
    },
    {
      "cell_type": "code",
      "source": [
        "le = LabelEncoder()\n",
        "l1 = []; l2 = []; one_hot_col = []\n",
        "print('Label Encoder Transformation')\n",
        "for i in tqdm(one_hot):\n",
        "    if type(df[i][0]) == str:\n",
        "        one_hot_col.append(i)\n",
        "        df[i] = le.fit_transform(df[i])\n",
        "        l1.append(list(df[i].unique())); l2.append(list(le.inverse_transform(df[i].unique())))\n",
        "        print(i,' : ',df[i].unique(),' = ',le.inverse_transform(df[i].unique()))"
      ],
      "metadata": {
        "id": "S__F4ah0_ehe",
        "colab": {
          "base_uri": "https://localhost:8080/"
        },
        "outputId": "aed1f494-5749-40c7-d718-1d23345ef286"
      },
      "execution_count": null,
      "outputs": [
        {
          "output_type": "stream",
          "name": "stdout",
          "text": [
            "Label Encoder Transformation\n"
          ]
        },
        {
          "output_type": "stream",
          "name": "stderr",
          "text": [
            "  0%|          | 0/2 [00:00<?, ?it/s]<ipython-input-11-136d6f549a23>:7: SettingWithCopyWarning: \n",
            "A value is trying to be set on a copy of a slice from a DataFrame.\n",
            "Try using .loc[row_indexer,col_indexer] = value instead\n",
            "\n",
            "See the caveats in the documentation: https://pandas.pydata.org/pandas-docs/stable/user_guide/indexing.html#returning-a-view-versus-a-copy\n",
            "  df[i] = le.fit_transform(df[i])\n",
            "100%|██████████| 2/2 [00:00<00:00, 68.71it/s]"
          ]
        },
        {
          "output_type": "stream",
          "name": "stdout",
          "text": [
            "Geography  :  [0 2 1]  =  ['France' 'Spain' 'Germany']\n",
            "Gender  :  [0 1]  =  ['Female' 'Male']\n"
          ]
        },
        {
          "output_type": "stream",
          "name": "stderr",
          "text": [
            "\n"
          ]
        }
      ]
    },
    {
      "cell_type": "code",
      "source": [
        "df1 = df\n",
        "df1.head()"
      ],
      "metadata": {
        "execution": {
          "iopub.status.busy": "2022-08-07T17:19:48.742914Z",
          "iopub.execute_input": "2022-08-07T17:19:48.743794Z",
          "iopub.status.idle": "2022-08-07T17:19:48.770608Z",
          "shell.execute_reply.started": "2022-08-07T17:19:48.743742Z",
          "shell.execute_reply": "2022-08-07T17:19:48.769808Z"
        },
        "trusted": true,
        "id": "adTFmuNMSEJg",
        "colab": {
          "base_uri": "https://localhost:8080/",
          "height": 206
        },
        "outputId": "7853680e-e104-4cfe-d98c-b0f77f1c5058"
      },
      "execution_count": null,
      "outputs": [
        {
          "output_type": "execute_result",
          "data": {
            "text/plain": [
              "   CreditScore  Geography  Gender  Age  Tenure    Balance  NumOfProducts  \\\n",
              "0          619          0       0   42       2       0.00              1   \n",
              "1          608          2       0   41       1   83807.86              1   \n",
              "2          502          0       0   42       8  159660.80              3   \n",
              "3          699          0       0   39       1       0.00              2   \n",
              "4          850          2       0   43       2  125510.82              1   \n",
              "\n",
              "   HasCrCard  IsActiveMember  EstimatedSalary  Exited  \n",
              "0          1               1        101348.88       1  \n",
              "1          0               1        112542.58       0  \n",
              "2          1               0        113931.57       1  \n",
              "3          0               0         93826.63       0  \n",
              "4          1               1         79084.10       0  "
            ],
            "text/html": [
              "\n",
              "  <div id=\"df-776a0e48-b694-499d-b2d2-b535c331874d\">\n",
              "    <div class=\"colab-df-container\">\n",
              "      <div>\n",
              "<style scoped>\n",
              "    .dataframe tbody tr th:only-of-type {\n",
              "        vertical-align: middle;\n",
              "    }\n",
              "\n",
              "    .dataframe tbody tr th {\n",
              "        vertical-align: top;\n",
              "    }\n",
              "\n",
              "    .dataframe thead th {\n",
              "        text-align: right;\n",
              "    }\n",
              "</style>\n",
              "<table border=\"1\" class=\"dataframe\">\n",
              "  <thead>\n",
              "    <tr style=\"text-align: right;\">\n",
              "      <th></th>\n",
              "      <th>CreditScore</th>\n",
              "      <th>Geography</th>\n",
              "      <th>Gender</th>\n",
              "      <th>Age</th>\n",
              "      <th>Tenure</th>\n",
              "      <th>Balance</th>\n",
              "      <th>NumOfProducts</th>\n",
              "      <th>HasCrCard</th>\n",
              "      <th>IsActiveMember</th>\n",
              "      <th>EstimatedSalary</th>\n",
              "      <th>Exited</th>\n",
              "    </tr>\n",
              "  </thead>\n",
              "  <tbody>\n",
              "    <tr>\n",
              "      <th>0</th>\n",
              "      <td>619</td>\n",
              "      <td>0</td>\n",
              "      <td>0</td>\n",
              "      <td>42</td>\n",
              "      <td>2</td>\n",
              "      <td>0.00</td>\n",
              "      <td>1</td>\n",
              "      <td>1</td>\n",
              "      <td>1</td>\n",
              "      <td>101348.88</td>\n",
              "      <td>1</td>\n",
              "    </tr>\n",
              "    <tr>\n",
              "      <th>1</th>\n",
              "      <td>608</td>\n",
              "      <td>2</td>\n",
              "      <td>0</td>\n",
              "      <td>41</td>\n",
              "      <td>1</td>\n",
              "      <td>83807.86</td>\n",
              "      <td>1</td>\n",
              "      <td>0</td>\n",
              "      <td>1</td>\n",
              "      <td>112542.58</td>\n",
              "      <td>0</td>\n",
              "    </tr>\n",
              "    <tr>\n",
              "      <th>2</th>\n",
              "      <td>502</td>\n",
              "      <td>0</td>\n",
              "      <td>0</td>\n",
              "      <td>42</td>\n",
              "      <td>8</td>\n",
              "      <td>159660.80</td>\n",
              "      <td>3</td>\n",
              "      <td>1</td>\n",
              "      <td>0</td>\n",
              "      <td>113931.57</td>\n",
              "      <td>1</td>\n",
              "    </tr>\n",
              "    <tr>\n",
              "      <th>3</th>\n",
              "      <td>699</td>\n",
              "      <td>0</td>\n",
              "      <td>0</td>\n",
              "      <td>39</td>\n",
              "      <td>1</td>\n",
              "      <td>0.00</td>\n",
              "      <td>2</td>\n",
              "      <td>0</td>\n",
              "      <td>0</td>\n",
              "      <td>93826.63</td>\n",
              "      <td>0</td>\n",
              "    </tr>\n",
              "    <tr>\n",
              "      <th>4</th>\n",
              "      <td>850</td>\n",
              "      <td>2</td>\n",
              "      <td>0</td>\n",
              "      <td>43</td>\n",
              "      <td>2</td>\n",
              "      <td>125510.82</td>\n",
              "      <td>1</td>\n",
              "      <td>1</td>\n",
              "      <td>1</td>\n",
              "      <td>79084.10</td>\n",
              "      <td>0</td>\n",
              "    </tr>\n",
              "  </tbody>\n",
              "</table>\n",
              "</div>\n",
              "      <button class=\"colab-df-convert\" onclick=\"convertToInteractive('df-776a0e48-b694-499d-b2d2-b535c331874d')\"\n",
              "              title=\"Convert this dataframe to an interactive table.\"\n",
              "              style=\"display:none;\">\n",
              "        \n",
              "  <svg xmlns=\"http://www.w3.org/2000/svg\" height=\"24px\"viewBox=\"0 0 24 24\"\n",
              "       width=\"24px\">\n",
              "    <path d=\"M0 0h24v24H0V0z\" fill=\"none\"/>\n",
              "    <path d=\"M18.56 5.44l.94 2.06.94-2.06 2.06-.94-2.06-.94-.94-2.06-.94 2.06-2.06.94zm-11 1L8.5 8.5l.94-2.06 2.06-.94-2.06-.94L8.5 2.5l-.94 2.06-2.06.94zm10 10l.94 2.06.94-2.06 2.06-.94-2.06-.94-.94-2.06-.94 2.06-2.06.94z\"/><path d=\"M17.41 7.96l-1.37-1.37c-.4-.4-.92-.59-1.43-.59-.52 0-1.04.2-1.43.59L10.3 9.45l-7.72 7.72c-.78.78-.78 2.05 0 2.83L4 21.41c.39.39.9.59 1.41.59.51 0 1.02-.2 1.41-.59l7.78-7.78 2.81-2.81c.8-.78.8-2.07 0-2.86zM5.41 20L4 18.59l7.72-7.72 1.47 1.35L5.41 20z\"/>\n",
              "  </svg>\n",
              "      </button>\n",
              "      \n",
              "  <style>\n",
              "    .colab-df-container {\n",
              "      display:flex;\n",
              "      flex-wrap:wrap;\n",
              "      gap: 12px;\n",
              "    }\n",
              "\n",
              "    .colab-df-convert {\n",
              "      background-color: #E8F0FE;\n",
              "      border: none;\n",
              "      border-radius: 50%;\n",
              "      cursor: pointer;\n",
              "      display: none;\n",
              "      fill: #1967D2;\n",
              "      height: 32px;\n",
              "      padding: 0 0 0 0;\n",
              "      width: 32px;\n",
              "    }\n",
              "\n",
              "    .colab-df-convert:hover {\n",
              "      background-color: #E2EBFA;\n",
              "      box-shadow: 0px 1px 2px rgba(60, 64, 67, 0.3), 0px 1px 3px 1px rgba(60, 64, 67, 0.15);\n",
              "      fill: #174EA6;\n",
              "    }\n",
              "\n",
              "    [theme=dark] .colab-df-convert {\n",
              "      background-color: #3B4455;\n",
              "      fill: #D2E3FC;\n",
              "    }\n",
              "\n",
              "    [theme=dark] .colab-df-convert:hover {\n",
              "      background-color: #434B5C;\n",
              "      box-shadow: 0px 1px 3px 1px rgba(0, 0, 0, 0.15);\n",
              "      filter: drop-shadow(0px 1px 2px rgba(0, 0, 0, 0.3));\n",
              "      fill: #FFFFFF;\n",
              "    }\n",
              "  </style>\n",
              "\n",
              "      <script>\n",
              "        const buttonEl =\n",
              "          document.querySelector('#df-776a0e48-b694-499d-b2d2-b535c331874d button.colab-df-convert');\n",
              "        buttonEl.style.display =\n",
              "          google.colab.kernel.accessAllowed ? 'block' : 'none';\n",
              "\n",
              "        async function convertToInteractive(key) {\n",
              "          const element = document.querySelector('#df-776a0e48-b694-499d-b2d2-b535c331874d');\n",
              "          const dataTable =\n",
              "            await google.colab.kernel.invokeFunction('convertToInteractive',\n",
              "                                                     [key], {});\n",
              "          if (!dataTable) return;\n",
              "\n",
              "          const docLinkHtml = 'Like what you see? Visit the ' +\n",
              "            '<a target=\"_blank\" href=https://colab.research.google.com/notebooks/data_table.ipynb>data table notebook</a>'\n",
              "            + ' to learn more about interactive tables.';\n",
              "          element.innerHTML = '';\n",
              "          dataTable['output_type'] = 'display_data';\n",
              "          await google.colab.output.renderOutput(dataTable, element);\n",
              "          const docLink = document.createElement('div');\n",
              "          docLink.innerHTML = docLinkHtml;\n",
              "          element.appendChild(docLink);\n",
              "        }\n",
              "      </script>\n",
              "    </div>\n",
              "  </div>\n",
              "  "
            ]
          },
          "metadata": {},
          "execution_count": 12
        }
      ]
    },
    {
      "cell_type": "markdown",
      "source": [
        "# 4.Visualization"
      ],
      "metadata": {
        "id": "-aBEkuDxw1QJ"
      }
    },
    {
      "cell_type": "code",
      "source": [
        "#Màu của plot\n",
        "colors = ['#2BAE66','#FCF6F5']"
      ],
      "metadata": {
        "id": "OO5oxW969LRr"
      },
      "execution_count": null,
      "outputs": []
    },
    {
      "cell_type": "markdown",
      "source": [
        "## 4.1.Vẽ biểu đồ Plot cho mối quan hệ giữa 2 cột Age và Exit Status"
      ],
      "metadata": {
        "id": "FQoNk5sASEJb"
      }
    },
    {
      "cell_type": "code",
      "source": [
        "#Chia độ tuổi theo từng nhóm (nhóm tuổi = tuổi / 5)\n",
        "df['Age_Group'] = [int(i/5) for i in df1['Age']]\n",
        "\n",
        "plt.figure(figsize = (15,5))\n",
        "ax = sns.countplot('Age_Group', data = df, hue = 'Exited', palette = colors,edgecolor = 'black')\n",
        "for rect in ax.patches:\n",
        "    ax.text(rect.get_x() + rect.get_width() / 2, rect.get_height(), rect.get_height(), horizontalalignment='center', fontsize = 11)\n",
        "plt.legend(['Not Exited', 'Exited'], loc = 'upper right')\n",
        "plt.title('Age');"
      ],
      "metadata": {
        "execution": {
          "iopub.status.busy": "2022-08-07T17:19:47.61396Z",
          "iopub.execute_input": "2022-08-07T17:19:47.614605Z",
          "iopub.status.idle": "2022-08-07T17:19:47.927669Z",
          "shell.execute_reply.started": "2022-08-07T17:19:47.614545Z",
          "shell.execute_reply": "2022-08-07T17:19:47.926041Z"
        },
        "trusted": true,
        "id": "vo7VSio8SEJc",
        "colab": {
          "base_uri": "https://localhost:8080/",
          "height": 507
        },
        "outputId": "bf43ae21-e411-490d-e9ec-f90d7b7e2567"
      },
      "execution_count": null,
      "outputs": [
        {
          "output_type": "stream",
          "name": "stderr",
          "text": [
            "<ipython-input-14-0d8cf27a83f3>:2: SettingWithCopyWarning: \n",
            "A value is trying to be set on a copy of a slice from a DataFrame.\n",
            "Try using .loc[row_indexer,col_indexer] = value instead\n",
            "\n",
            "See the caveats in the documentation: https://pandas.pydata.org/pandas-docs/stable/user_guide/indexing.html#returning-a-view-versus-a-copy\n",
            "  df['Age_Group'] = [int(i/5) for i in df1['Age']]\n",
            "WARNING:matplotlib.text:posx and posy should be finite values\n",
            "WARNING:matplotlib.text:posx and posy should be finite values\n",
            "WARNING:matplotlib.text:posx and posy should be finite values\n"
          ]
        },
        {
          "output_type": "display_data",
          "data": {
            "text/plain": [
              "<Figure size 1080x360 with 1 Axes>"
            ],
            "image/png": "[encoded data removed]"
          },
          "metadata": {
            "needs_background": "light"
          }
        }
      ]
    },
    {
      "cell_type": "markdown",
      "source": [
        "## 4.2.Biểu đồ Plot hiển thị quan hệ giữa 2 cột Balance và Exit Status"
      ],
      "metadata": {
        "id": "hCzausJ6SEJc"
      }
    },
    {
      "cell_type": "code",
      "source": [
        "#Chia balance theo từng nhóm (nhóm tuổi = tuổi / 20000)\n",
        "df['Balance_Group'] = [int(i/20000) for i in df1['Balance']]\n",
        "\n",
        "plt.figure(figsize = (15,5))\n",
        "ax = sns.countplot('Balance_Group', data = df, hue = 'Exited', palette = colors,edgecolor = 'black')\n",
        "for rect in ax.patches:\n",
        "    ax.text(rect.get_x() + rect.get_width() / 2, rect.get_height(), rect.get_height(), horizontalalignment='center', fontsize = 11)\n",
        "plt.legend(['Not Exited', 'Exited'], loc = 'upper right')\n",
        "plt.title('Balance');"
      ],
      "metadata": {
        "execution": {
          "iopub.status.busy": "2022-08-07T17:19:47.930025Z",
          "iopub.execute_input": "2022-08-07T17:19:47.930609Z",
          "iopub.status.idle": "2022-08-07T17:19:48.216539Z",
          "shell.execute_reply.started": "2022-08-07T17:19:47.93057Z",
          "shell.execute_reply": "2022-08-07T17:19:48.215331Z"
        },
        "trusted": true,
        "id": "W0RFapfRSEJd",
        "colab": {
          "base_uri": "https://localhost:8080/",
          "height": 507
        },
        "outputId": "b6530558-3e90-4555-c4a6-2821ab24f470"
      },
      "execution_count": null,
      "outputs": [
        {
          "output_type": "stream",
          "name": "stderr",
          "text": [
            "<ipython-input-15-a2f365e4d65a>:2: SettingWithCopyWarning: \n",
            "A value is trying to be set on a copy of a slice from a DataFrame.\n",
            "Try using .loc[row_indexer,col_indexer] = value instead\n",
            "\n",
            "See the caveats in the documentation: https://pandas.pydata.org/pandas-docs/stable/user_guide/indexing.html#returning-a-view-versus-a-copy\n",
            "  df['Balance_Group'] = [int(i/20000) for i in df1['Balance']]\n",
            "WARNING:matplotlib.text:posx and posy should be finite values\n",
            "WARNING:matplotlib.text:posx and posy should be finite values\n",
            "WARNING:matplotlib.text:posx and posy should be finite values\n"
          ]
        },
        {
          "output_type": "display_data",
          "data": {
            "text/plain": [
              "<Figure size 1080x360 with 1 Axes>"
            ],
            "image/png": "[encoded data removed]"
          },
          "metadata": {
            "needs_background": "light"
          }
        }
      ]
    },
    {
      "cell_type": "markdown",
      "source": [
        "## 4.3.Biểu đồ Plot hiển thị quan hệ giữa 2 cột Salary và Exit Status"
      ],
      "metadata": {
        "id": "kywvYNIwBStJ"
      }
    },
    {
      "cell_type": "code",
      "source": [
        "#Chia balance theo từng nhóm (nhóm tuổi = tuổi / 20000)\n",
        "df['EstimatedSalary_Group'] = [int(i/20000) for i in df1['EstimatedSalary']]\n",
        "\n",
        "plt.figure(figsize = (15,5))\n",
        "ax = sns.countplot('EstimatedSalary_Group', data = df1, hue = 'Exited', palette = colors,edgecolor = 'black')\n",
        "for rect in ax.patches:\n",
        "    ax.text(rect.get_x() + rect.get_width() / 2, rect.get_height(), rect.get_height(), horizontalalignment='center', fontsize = 11)\n",
        "plt.legend(['Not Exited', 'Exited'], loc = 'upper right')\n",
        "plt.title('Estimated Salary');"
      ],
      "metadata": {
        "execution": {
          "iopub.status.busy": "2022-08-07T17:19:47.930025Z",
          "iopub.execute_input": "2022-08-07T17:19:47.930609Z",
          "iopub.status.idle": "2022-08-07T17:19:48.216539Z",
          "shell.execute_reply.started": "2022-08-07T17:19:47.93057Z",
          "shell.execute_reply": "2022-08-07T17:19:48.215331Z"
        },
        "trusted": true,
        "id": "KnSgH8frBStK",
        "colab": {
          "base_uri": "https://localhost:8080/",
          "height": 455
        },
        "outputId": "bcbd8508-2684-4ba5-c2f5-2c34b12db8bd"
      },
      "execution_count": null,
      "outputs": [
        {
          "output_type": "stream",
          "name": "stderr",
          "text": [
            "<ipython-input-16-6b85c241753b>:2: SettingWithCopyWarning: \n",
            "A value is trying to be set on a copy of a slice from a DataFrame.\n",
            "Try using .loc[row_indexer,col_indexer] = value instead\n",
            "\n",
            "See the caveats in the documentation: https://pandas.pydata.org/pandas-docs/stable/user_guide/indexing.html#returning-a-view-versus-a-copy\n",
            "  df['EstimatedSalary_Group'] = [int(i/20000) for i in df1['EstimatedSalary']]\n"
          ]
        },
        {
          "output_type": "display_data",
          "data": {
            "text/plain": [
              "<Figure size 1080x360 with 1 Axes>"
            ],
            "image/png": "[encoded data removed]"
          },
          "metadata": {
            "needs_background": "light"
          }
        }
      ]
    },
    {
      "cell_type": "markdown",
      "source": [
        "## 4.4.Biểu đồ Plot cho mối quan hệ giữa 2 cột Geography và Exit Status\n"
      ],
      "metadata": {
        "id": "_X9LmOiUSEJf"
      }
    },
    {
      "cell_type": "code",
      "source": [
        "# fig = plt.subplots(nrows = 1, ncols = 3, figsize = (20,5))\n",
        "\n",
        "# plt.subplot(1,3,1)\n",
        "# ax = sns.countplot('Geography_France',data = df1, hue = 'Exited', palette = colors,edgecolor = 'black')\n",
        "# for rect in ax.patches:\n",
        "#     ax.text(rect.get_x() + rect.get_width() / 2, rect.get_height() + 2, rect.get_height(), horizontalalignment='center', fontsize = 11)\n",
        "# ax.set_xticklabels(df1['Geography_France'][j] for j in sorted(df1['Geography_France'].unique()))\n",
        "# plt.legend(['Not Exited', 'Exited'])\n",
        "# plt.title('Geography France');\n",
        "\n",
        "# plt.subplot(1,3,2)\n",
        "# ax = sns.countplot('Geography_Germany',data = df1, hue = 'Exited', palette = colors,edgecolor = 'black')\n",
        "# for rect in ax.patches:\n",
        "#     ax.text(rect.get_x() + rect.get_width() / 2, rect.get_height() + 2, rect.get_height(), horizontalalignment='center', fontsize = 11)\n",
        "# ax.set_xticklabels(df1['Geography_Germany'][j] for j in sorted(df1['Geography_Germany'].unique()))\n",
        "# plt.legend(['Not Exited', 'Exited'])\n",
        "# plt.title('Geography Germany');\n",
        "\n",
        "# plt.subplot(1,3,3)\n",
        "# ax = sns.countplot('Geography_Spain',data = df1, hue = 'Exited', palette = colors,edgecolor = 'black')\n",
        "# for rect in ax.patches:\n",
        "#     ax.text(rect.get_x() + rect.get_width() / 2, rect.get_height() + 2, rect.get_height(), horizontalalignment='center', fontsize = 11)\n",
        "# ax.set_xticklabels(df1['Geography_Spain'][j] for j in sorted(df1['Geography_Spain'].unique()))\n",
        "# plt.legend(['Not Exited', 'Exited'])\n",
        "# plt.title('Geography Spain');"
      ],
      "metadata": {
        "id": "DjRFOKAl9B21"
      },
      "execution_count": null,
      "outputs": []
    },
    {
      "cell_type": "code",
      "source": [
        "tf1 = {}\n",
        "for i in range(len(one_hot_col)):\n",
        "    tf1[one_hot_col[i]] = {}\n",
        "    for j,k in zip(l1[i],l2[i]):\n",
        "        tf1[one_hot_col[i]][j] = k"
      ],
      "metadata": {
        "id": "nT4YIamdBBMm"
      },
      "execution_count": null,
      "outputs": []
    },
    {
      "cell_type": "code",
      "source": [
        "ax = sns.countplot('Geography',data = df1, hue = 'Exited', palette = colors,edgecolor = 'black')\n",
        "for rect in ax.patches:\n",
        "    ax.text(rect.get_x() + rect.get_width() / 2, rect.get_height() + 2, rect.get_height(), horizontalalignment='center', fontsize = 11)\n",
        "ax.set_xticklabels(tf1['Geography'][j] for j in sorted(df['Geography'].unique()))\n",
        "plt.legend(['Not Exited', 'Exited'])\n",
        "plt.title('Geography');"
      ],
      "metadata": {
        "id": "4QmKvi9CBH4c",
        "colab": {
          "base_uri": "https://localhost:8080/",
          "height": 295
        },
        "outputId": "28637592-ebde-4695-cb36-9ba130b2af66"
      },
      "execution_count": null,
      "outputs": [
        {
          "output_type": "display_data",
          "data": {
            "text/plain": [
              "<Figure size 432x288 with 1 Axes>"
            ],
            "image/png": "[encoded data removed]"
          },
          "metadata": {
            "needs_background": "light"
          }
        }
      ]
    },
    {
      "cell_type": "markdown",
      "source": [
        "## 4.5.Biểu đồ Plot cho mối quan hệ giữa 2 cột HasCrCard và Exit Status\n"
      ],
      "metadata": {
        "id": "B2uLNB272TKA"
      }
    },
    {
      "cell_type": "code",
      "source": [
        "fig = plt.subplots(nrows = 1, ncols = 1, figsize = (10,5))\n",
        "\n",
        "plt.subplot(1,1,1)\n",
        "ax = sns.countplot('HasCrCard',data = df1, hue = 'Exited', palette = colors,edgecolor = 'black')\n",
        "for rect in ax.patches:\n",
        "    ax.text(rect.get_x() + rect.get_width() / 2, rect.get_height() + 2, rect.get_height(), horizontalalignment='center', fontsize = 11)\n",
        "ax.set_xticklabels(df1['HasCrCard'][j] for j in sorted(df1['HasCrCard'].unique()))\n",
        "plt.legend(['Not Exited', 'Exited'])\n",
        "plt.title('Has Credit Card');"
      ],
      "metadata": {
        "id": "yHqPnEtw2Z4d",
        "colab": {
          "base_uri": "https://localhost:8080/",
          "height": 350
        },
        "outputId": "7bc59e31-253e-442c-ecd0-3e29180ab0bc"
      },
      "execution_count": null,
      "outputs": [
        {
          "output_type": "display_data",
          "data": {
            "text/plain": [
              "<Figure size 720x360 with 1 Axes>"
            ],
            "image/png": "[encoded data removed]"
          },
          "metadata": {
            "needs_background": "light"
          }
        }
      ]
    },
    {
      "cell_type": "markdown",
      "source": [
        "# 5.XÂY DỰNG MÔ HÌNH DỰ ĐOÁN"
      ],
      "metadata": {
        "id": "kR7J2tKq-6lM"
      }
    },
    {
      "cell_type": "markdown",
      "source": [
        "#### 5.1.Sử dụng MinMaxScaler để chuyển đổi dữ liệu cho 4 cột CreditScore, EstimatedSalary, Balance, Age"
      ],
      "metadata": {
        "id": "sQY17okPSEJg"
      }
    },
    {
      "cell_type": "code",
      "source": [
        "from sklearn.preprocessing import MinMaxScaler\n",
        "scaler = MinMaxScaler()\n",
        "df1[['CreditScore','EstimatedSalary',\n",
        "     'Balance','Age']] = scaler.fit_transform(\n",
        "df1[['CreditScore','EstimatedSalary',\n",
        "     'Balance','Age']])"
      ],
      "metadata": {
        "execution": {
          "iopub.status.busy": "2022-08-07T17:19:48.772325Z",
          "iopub.execute_input": "2022-08-07T17:19:48.773426Z",
          "iopub.status.idle": "2022-08-07T17:19:50.038817Z",
          "shell.execute_reply.started": "2022-08-07T17:19:48.773387Z",
          "shell.execute_reply": "2022-08-07T17:19:50.037124Z"
        },
        "trusted": true,
        "id": "XMRQEc7mSEJg",
        "colab": {
          "base_uri": "https://localhost:8080/"
        },
        "outputId": "06efe3b8-8ba4-4e12-9a93-5903f49b89ab"
      },
      "execution_count": null,
      "outputs": [
        {
          "output_type": "stream",
          "name": "stderr",
          "text": [
            "/usr/local/lib/python3.8/dist-packages/pandas/core/frame.py:3678: SettingWithCopyWarning: \n",
            "A value is trying to be set on a copy of a slice from a DataFrame.\n",
            "Try using .loc[row_indexer,col_indexer] = value instead\n",
            "\n",
            "See the caveats in the documentation: https://pandas.pydata.org/pandas-docs/stable/user_guide/indexing.html#returning-a-view-versus-a-copy\n",
            "  self[col] = igetitem(value, i)\n"
          ]
        }
      ]
    },
    {
      "cell_type": "markdown",
      "source": [
        "#### 5.2.Tách dữ liệu vào X,Y sử dụng train_test_split"
      ],
      "metadata": {
        "id": "svR6SxOnSEJg"
      }
    },
    {
      "cell_type": "code",
      "source": [
        "X = df1.drop('Exited',axis = 1)\n",
        "y = df1['Exited']"
      ],
      "metadata": {
        "execution": {
          "iopub.status.busy": "2022-08-07T17:19:50.040935Z",
          "iopub.execute_input": "2022-08-07T17:19:50.041596Z",
          "iopub.status.idle": "2022-08-07T17:19:50.048598Z",
          "shell.execute_reply.started": "2022-08-07T17:19:50.041546Z",
          "shell.execute_reply": "2022-08-07T17:19:50.04755Z"
        },
        "trusted": true,
        "id": "QvRVdVTJSEJg"
      },
      "execution_count": null,
      "outputs": []
    },
    {
      "cell_type": "code",
      "source": [
        "from sklearn.model_selection import train_test_split\n",
        "X_train,X_test,y_train,y_test = train_test_split(X,y,test_size=0.2)"
      ],
      "metadata": {
        "execution": {
          "iopub.status.busy": "2022-08-07T17:19:50.051753Z",
          "iopub.execute_input": "2022-08-07T17:19:50.052407Z",
          "iopub.status.idle": "2022-08-07T17:19:50.13688Z",
          "shell.execute_reply.started": "2022-08-07T17:19:50.05236Z",
          "shell.execute_reply": "2022-08-07T17:19:50.135495Z"
        },
        "trusted": true,
        "id": "ff9itgkySEJg"
      },
      "execution_count": null,
      "outputs": []
    },
    {
      "cell_type": "markdown",
      "source": [
        "#### 5.3.Import Tensorflow, keras và Format cho mô hình"
      ],
      "metadata": {
        "id": "YXjPbfOFSEJh"
      }
    },
    {
      "cell_type": "code",
      "source": [
        "import tensorflow as tf\n",
        "from tensorflow import keras\n",
        "\n",
        "model = keras.Sequential([\n",
        "     keras.layers.Dense(32,input_shape = (13,),activation='relu'),\n",
        "     keras.layers.Dense(16,activation='relu'),\n",
        "     keras.layers.Dense(1,activation='sigmoid')\n",
        "])\n",
        "model.compile(optimizer='adam',loss = 'binary_crossentropy',metrics=['accuracy'])"
      ],
      "metadata": {
        "execution": {
          "iopub.status.busy": "2022-08-07T17:19:50.13892Z",
          "iopub.execute_input": "2022-08-07T17:19:50.139317Z",
          "iopub.status.idle": "2022-08-07T17:19:57.856488Z",
          "shell.execute_reply.started": "2022-08-07T17:19:50.139272Z",
          "shell.execute_reply": "2022-08-07T17:19:57.855185Z"
        },
        "trusted": true,
        "id": "eOD-IWd0SEJh"
      },
      "execution_count": null,
      "outputs": []
    },
    {
      "cell_type": "markdown",
      "source": [
        "#### 5.4.Training model"
      ],
      "metadata": {
        "id": "dyiVsiX8SEJh"
      }
    },
    {
      "cell_type": "code",
      "source": [
        "model.fit(X_train,y_train,epochs = 50)"
      ],
      "metadata": {
        "execution": {
          "iopub.status.busy": "2022-08-07T17:19:57.857799Z",
          "iopub.execute_input": "2022-08-07T17:19:57.858142Z",
          "iopub.status.idle": "2022-08-07T17:20:21.411408Z",
          "shell.execute_reply.started": "2022-08-07T17:19:57.858111Z",
          "shell.execute_reply": "2022-08-07T17:20:21.410379Z"
        },
        "trusted": true,
        "id": "MlkJ_MwMSEJh",
        "colab": {
          "base_uri": "https://localhost:8080/"
        },
        "outputId": "c050cd16-50c6-40ab-f706-498d74b1dff0"
      },
      "execution_count": null,
      "outputs": [
        {
          "output_type": "stream",
          "name": "stdout",
          "text": [
            "Epoch 1/50\n",
            "249/249 [==============================] - 1s 2ms/step - loss: 0.5058 - accuracy: 0.7961\n",
            "Epoch 2/50\n",
            "249/249 [==============================] - 1s 3ms/step - loss: 0.4569 - accuracy: 0.8060\n",
            "Epoch 3/50\n",
            "249/249 [==============================] - 1s 2ms/step - loss: 0.4424 - accuracy: 0.8106\n",
            "Epoch 4/50\n",
            "249/249 [==============================] - 0s 2ms/step - loss: 0.4396 - accuracy: 0.8133\n",
            "Epoch 5/50\n",
            "249/249 [==============================] - 0s 2ms/step - loss: 0.4355 - accuracy: 0.8169\n",
            "Epoch 6/50\n",
            "249/249 [==============================] - 0s 2ms/step - loss: 0.4353 - accuracy: 0.8157\n",
            "Epoch 7/50\n",
            "249/249 [==============================] - 1s 2ms/step - loss: 0.4319 - accuracy: 0.8144\n",
            "Epoch 8/50\n",
            "249/249 [==============================] - 0s 2ms/step - loss: 0.4308 - accuracy: 0.8163\n",
            "Epoch 9/50\n",
            "249/249 [==============================] - 0s 2ms/step - loss: 0.4288 - accuracy: 0.8152\n",
            "Epoch 10/50\n",
            "249/249 [==============================] - 1s 2ms/step - loss: 0.4274 - accuracy: 0.8160\n",
            "Epoch 11/50\n",
            "249/249 [==============================] - 1s 2ms/step - loss: 0.4244 - accuracy: 0.8201\n",
            "Epoch 12/50\n",
            "249/249 [==============================] - 1s 2ms/step - loss: 0.4224 - accuracy: 0.8199\n",
            "Epoch 13/50\n",
            "249/249 [==============================] - 0s 2ms/step - loss: 0.4200 - accuracy: 0.8212\n",
            "Epoch 14/50\n",
            "249/249 [==============================] - 0s 2ms/step - loss: 0.4203 - accuracy: 0.8178\n",
            "Epoch 15/50\n",
            "249/249 [==============================] - 1s 2ms/step - loss: 0.4165 - accuracy: 0.8227\n",
            "Epoch 16/50\n",
            "249/249 [==============================] - 1s 2ms/step - loss: 0.4184 - accuracy: 0.8223\n",
            "Epoch 17/50\n",
            "249/249 [==============================] - 1s 2ms/step - loss: 0.4143 - accuracy: 0.8217\n",
            "Epoch 18/50\n",
            "249/249 [==============================] - 1s 2ms/step - loss: 0.4149 - accuracy: 0.8221\n",
            "Epoch 19/50\n",
            "249/249 [==============================] - 1s 3ms/step - loss: 0.4131 - accuracy: 0.8219\n",
            "Epoch 20/50\n",
            "249/249 [==============================] - 1s 2ms/step - loss: 0.4094 - accuracy: 0.8225\n",
            "Epoch 21/50\n",
            "249/249 [==============================] - 0s 2ms/step - loss: 0.4088 - accuracy: 0.8251\n",
            "Epoch 22/50\n",
            "249/249 [==============================] - 1s 2ms/step - loss: 0.4074 - accuracy: 0.8251\n",
            "Epoch 23/50\n",
            "249/249 [==============================] - 1s 2ms/step - loss: 0.4045 - accuracy: 0.8271\n",
            "Epoch 24/50\n",
            "249/249 [==============================] - 1s 2ms/step - loss: 0.4041 - accuracy: 0.8285\n",
            "Epoch 25/50\n",
            "249/249 [==============================] - 1s 2ms/step - loss: 0.4001 - accuracy: 0.8289\n",
            "Epoch 26/50\n",
            "249/249 [==============================] - 0s 2ms/step - loss: 0.4002 - accuracy: 0.8285\n",
            "Epoch 27/50\n",
            "249/249 [==============================] - 0s 2ms/step - loss: 0.3953 - accuracy: 0.8306\n",
            "Epoch 28/50\n",
            "249/249 [==============================] - 1s 2ms/step - loss: 0.3936 - accuracy: 0.8309\n",
            "Epoch 29/50\n",
            "249/249 [==============================] - 1s 3ms/step - loss: 0.3909 - accuracy: 0.8299\n",
            "Epoch 30/50\n",
            "249/249 [==============================] - 1s 2ms/step - loss: 0.3855 - accuracy: 0.8341\n",
            "Epoch 31/50\n",
            "249/249 [==============================] - 1s 2ms/step - loss: 0.3819 - accuracy: 0.8350\n",
            "Epoch 32/50\n",
            "249/249 [==============================] - 0s 2ms/step - loss: 0.3771 - accuracy: 0.8378\n",
            "Epoch 33/50\n",
            "249/249 [==============================] - 1s 2ms/step - loss: 0.3733 - accuracy: 0.8425\n",
            "Epoch 34/50\n",
            "249/249 [==============================] - 1s 2ms/step - loss: 0.3665 - accuracy: 0.8417\n",
            "Epoch 35/50\n",
            "249/249 [==============================] - 1s 2ms/step - loss: 0.3688 - accuracy: 0.8449\n",
            "Epoch 36/50\n",
            "249/249 [==============================] - 0s 2ms/step - loss: 0.3618 - accuracy: 0.8486\n",
            "Epoch 37/50\n",
            "249/249 [==============================] - 0s 2ms/step - loss: 0.3622 - accuracy: 0.8452\n",
            "Epoch 38/50\n",
            "249/249 [==============================] - 1s 2ms/step - loss: 0.3575 - accuracy: 0.8487\n",
            "Epoch 39/50\n",
            "249/249 [==============================] - 1s 2ms/step - loss: 0.3561 - accuracy: 0.8505\n",
            "Epoch 40/50\n",
            "249/249 [==============================] - 0s 2ms/step - loss: 0.3548 - accuracy: 0.8517\n",
            "Epoch 41/50\n",
            "249/249 [==============================] - 0s 2ms/step - loss: 0.3539 - accuracy: 0.8542\n",
            "Epoch 42/50\n",
            "249/249 [==============================] - 0s 2ms/step - loss: 0.3503 - accuracy: 0.8567\n",
            "Epoch 43/50\n",
            "249/249 [==============================] - 0s 2ms/step - loss: 0.3515 - accuracy: 0.8546\n",
            "Epoch 44/50\n",
            "249/249 [==============================] - 0s 2ms/step - loss: 0.3495 - accuracy: 0.8515\n",
            "Epoch 45/50\n",
            "249/249 [==============================] - 1s 2ms/step - loss: 0.3472 - accuracy: 0.8548\n",
            "Epoch 46/50\n",
            "249/249 [==============================] - 0s 2ms/step - loss: 0.3493 - accuracy: 0.8538\n",
            "Epoch 47/50\n",
            "249/249 [==============================] - 0s 2ms/step - loss: 0.3468 - accuracy: 0.8572\n",
            "Epoch 48/50\n",
            "249/249 [==============================] - 0s 2ms/step - loss: 0.3453 - accuracy: 0.8542\n",
            "Epoch 49/50\n",
            "249/249 [==============================] - 1s 2ms/step - loss: 0.3433 - accuracy: 0.8570\n",
            "Epoch 50/50\n",
            "249/249 [==============================] - 0s 2ms/step - loss: 0.3446 - accuracy: 0.8560\n"
          ]
        },
        {
          "output_type": "execute_result",
          "data": {
            "text/plain": [
              "<keras.callbacks.History at 0x7f8a87efa610>"
            ]
          },
          "metadata": {},
          "execution_count": 25
        }
      ]
    },
    {
      "cell_type": "code",
      "source": [
        "import joblib\n",
        "joblib.dump(model, 'model.pkl')"
      ],
      "metadata": {
        "id": "MPkf78Fm2GS_",
        "colab": {
          "base_uri": "https://localhost:8080/"
        },
        "outputId": "e8064ba3-0471-4dd6-db55-e4b4aec21722"
      },
      "execution_count": null,
      "outputs": [
        {
          "output_type": "execute_result",
          "data": {
            "text/plain": [
              "['model.pkl']"
            ]
          },
          "metadata": {},
          "execution_count": 40
        }
      ]
    },
    {
      "cell_type": "code",
      "source": [
        "import tensorflow as tf\n",
        "print(tf.__version__)"
      ],
      "metadata": {
        "id": "fAWqFuQA7iKm",
        "colab": {
          "base_uri": "https://localhost:8080/"
        },
        "outputId": "7e6ba6a1-bb06-45b0-a21d-1b22471d6a40"
      },
      "execution_count": null,
      "outputs": [
        {
          "output_type": "stream",
          "name": "stdout",
          "text": [
            "2.9.2\n"
          ]
        }
      ]
    },
    {
      "cell_type": "code",
      "source": [
        "model.evaluate(X_test,y_test)"
      ],
      "metadata": {
        "execution": {
          "iopub.status.busy": "2022-08-07T17:20:21.412993Z",
          "iopub.execute_input": "2022-08-07T17:20:21.414199Z",
          "iopub.status.idle": "2022-08-07T17:20:21.752508Z",
          "shell.execute_reply.started": "2022-08-07T17:20:21.414149Z",
          "shell.execute_reply": "2022-08-07T17:20:21.751442Z"
        },
        "trusted": true,
        "id": "iLvaujxESEJh",
        "colab": {
          "base_uri": "https://localhost:8080/"
        },
        "outputId": "1f061cf2-a864-4ea9-dba2-d291aa17dac3"
      },
      "execution_count": null,
      "outputs": [
        {
          "output_type": "stream",
          "name": "stdout",
          "text": [
            "63/63 [==============================] - 0s 1ms/step - loss: 0.3528 - accuracy: 0.8584\n"
          ]
        },
        {
          "output_type": "execute_result",
          "data": {
            "text/plain": [
              "[0.3528359830379486, 0.85836261510849]"
            ]
          },
          "metadata": {},
          "execution_count": 28
        }
      ]
    },
    {
      "cell_type": "markdown",
      "source": [
        "**Độ chính xác khoảng 86%**"
      ],
      "metadata": {
        "id": "58BZGRoKSEJi"
      }
    },
    {
      "cell_type": "markdown",
      "source": [
        "#### 5.5.Dự đoán trên Test Set và sử dụng Ma trận nhầm lẫn và Báo cáo phân loại để đánh giá hiệu suất của mô hình "
      ],
      "metadata": {
        "id": "ba2Yq5ikSEJi"
      }
    },
    {
      "cell_type": "code",
      "source": [
        "yp = model.predict(X_test)\n",
        "\n",
        "y_pred = []\n",
        "for element in yp:\n",
        "    if element>0.5:\n",
        "        y_pred.append(1)\n",
        "    else:\n",
        "        y_pred.append(0)"
      ],
      "metadata": {
        "execution": {
          "iopub.status.busy": "2022-08-07T17:20:21.753964Z",
          "iopub.execute_input": "2022-08-07T17:20:21.754835Z",
          "iopub.status.idle": "2022-08-07T17:20:22.043547Z",
          "shell.execute_reply.started": "2022-08-07T17:20:21.754799Z",
          "shell.execute_reply": "2022-08-07T17:20:22.041825Z"
        },
        "trusted": true,
        "id": "uJJrAplISEJi",
        "colab": {
          "base_uri": "https://localhost:8080/"
        },
        "outputId": "ff3814f6-d3e3-4d3c-bc01-7165f77ce143"
      },
      "execution_count": null,
      "outputs": [
        {
          "output_type": "stream",
          "name": "stdout",
          "text": [
            "63/63 [==============================] - 0s 1ms/step\n"
          ]
        }
      ]
    },
    {
      "cell_type": "code",
      "source": [
        "from sklearn.metrics import confusion_matrix,classification_report\n",
        "print(classification_report(y_test,y_pred))"
      ],
      "metadata": {
        "execution": {
          "iopub.status.busy": "2022-08-07T17:20:22.045344Z",
          "iopub.execute_input": "2022-08-07T17:20:22.045709Z",
          "iopub.status.idle": "2022-08-07T17:20:22.064001Z",
          "shell.execute_reply.started": "2022-08-07T17:20:22.045676Z",
          "shell.execute_reply": "2022-08-07T17:20:22.062328Z"
        },
        "trusted": true,
        "id": "n9CCXDo_SEJi",
        "colab": {
          "base_uri": "https://localhost:8080/"
        },
        "outputId": "93cf8b5c-149d-4dd6-eebe-35b7818628e7"
      },
      "execution_count": null,
      "outputs": [
        {
          "output_type": "stream",
          "name": "stdout",
          "text": [
            "              precision    recall  f1-score   support\n",
            "\n",
            "           0       0.89      0.94      0.91      1582\n",
            "           1       0.70      0.54      0.61       409\n",
            "\n",
            "    accuracy                           0.86      1991\n",
            "   macro avg       0.79      0.74      0.76      1991\n",
            "weighted avg       0.85      0.86      0.85      1991\n",
            "\n"
          ]
        }
      ]
    },
    {
      "cell_type": "code",
      "source": [
        "import seaborn as sn\n",
        "cm = tf.math.confusion_matrix(labels = y_test, predictions = y_pred)\n",
        "sn.heatmap(cm,annot = True,fmt ='d')\n",
        "plt.xlabel('Predicted')\n",
        "plt.ylabel('Truth')"
      ],
      "metadata": {
        "execution": {
          "iopub.status.busy": "2022-08-07T17:20:22.065668Z",
          "iopub.execute_input": "2022-08-07T17:20:22.066082Z",
          "iopub.status.idle": "2022-08-07T17:20:22.553215Z",
          "shell.execute_reply.started": "2022-08-07T17:20:22.066046Z",
          "shell.execute_reply": "2022-08-07T17:20:22.551738Z"
        },
        "trusted": true,
        "id": "Di3WPP-xSEJi",
        "colab": {
          "base_uri": "https://localhost:8080/",
          "height": 296
        },
        "outputId": "15e1e6d5-f33c-4d01-a24a-da9d1e9e3756"
      },
      "execution_count": null,
      "outputs": [
        {
          "output_type": "execute_result",
          "data": {
            "text/plain": [
              "Text(33.0, 0.5, 'Truth')"
            ]
          },
          "metadata": {},
          "execution_count": 31
        },
        {
          "output_type": "display_data",
          "data": {
            "text/plain": [
              "<Figure size 432x288 with 2 Axes>"
            ],
            "image/png": "[encoded data removed]"
          },
          "metadata": {
            "needs_background": "light"
          }
        }
      ]
    },
    {
      "cell_type": "markdown",
      "source": [
        "### 5.6.Dữ liệu test app demo"
      ],
      "metadata": {
        "id": "Yt7gCr28_T2X"
      }
    },
    {
      "cell_type": "code",
      "source": [
        "df1[['CreditScore', 'Tenure', 'HasCrCard', 'IsActiveMember', 'EstimatedSalary','Exited']].head(5)"
      ],
      "metadata": {
        "id": "3TXP2fT4b6-q",
        "colab": {
          "base_uri": "https://localhost:8080/",
          "height": 206
        },
        "outputId": "1d91a7c5-0d8d-4684-a47f-c4d4d046fe49"
      },
      "execution_count": null,
      "outputs": [
        {
          "output_type": "execute_result",
          "data": {
            "text/plain": [
              "   CreditScore  Tenure  HasCrCard  IsActiveMember  EstimatedSalary  Exited\n",
              "0        0.538       2          1               1         0.506735       1\n",
              "1        0.516       1          0               1         0.562709       0\n",
              "2        0.304       8          1               0         0.569654       1\n",
              "3        0.698       1          0               0         0.469120       0\n",
              "4        1.000       2          1               1         0.395400       0"
            ],
            "text/html": [
              "\n",
              "  <div id=\"df-f67317a1-cd58-4db5-b93a-ead183178286\">\n",
              "    <div class=\"colab-df-container\">\n",
              "      <div>\n",
              "<style scoped>\n",
              "    .dataframe tbody tr th:only-of-type {\n",
              "        vertical-align: middle;\n",
              "    }\n",
              "\n",
              "    .dataframe tbody tr th {\n",
              "        vertical-align: top;\n",
              "    }\n",
              "\n",
              "    .dataframe thead th {\n",
              "        text-align: right;\n",
              "    }\n",
              "</style>\n",
              "<table border=\"1\" class=\"dataframe\">\n",
              "  <thead>\n",
              "    <tr style=\"text-align: right;\">\n",
              "      <th></th>\n",
              "      <th>CreditScore</th>\n",
              "      <th>Tenure</th>\n",
              "      <th>HasCrCard</th>\n",
              "      <th>IsActiveMember</th>\n",
              "      <th>EstimatedSalary</th>\n",
              "      <th>Exited</th>\n",
              "    </tr>\n",
              "  </thead>\n",
              "  <tbody>\n",
              "    <tr>\n",
              "      <th>0</th>\n",
              "      <td>0.538</td>\n",
              "      <td>2</td>\n",
              "      <td>1</td>\n",
              "      <td>1</td>\n",
              "      <td>0.506735</td>\n",
              "      <td>1</td>\n",
              "    </tr>\n",
              "    <tr>\n",
              "      <th>1</th>\n",
              "      <td>0.516</td>\n",
              "      <td>1</td>\n",
              "      <td>0</td>\n",
              "      <td>1</td>\n",
              "      <td>0.562709</td>\n",
              "      <td>0</td>\n",
              "    </tr>\n",
              "    <tr>\n",
              "      <th>2</th>\n",
              "      <td>0.304</td>\n",
              "      <td>8</td>\n",
              "      <td>1</td>\n",
              "      <td>0</td>\n",
              "      <td>0.569654</td>\n",
              "      <td>1</td>\n",
              "    </tr>\n",
              "    <tr>\n",
              "      <th>3</th>\n",
              "      <td>0.698</td>\n",
              "      <td>1</td>\n",
              "      <td>0</td>\n",
              "      <td>0</td>\n",
              "      <td>0.469120</td>\n",
              "      <td>0</td>\n",
              "    </tr>\n",
              "    <tr>\n",
              "      <th>4</th>\n",
              "      <td>1.000</td>\n",
              "      <td>2</td>\n",
              "      <td>1</td>\n",
              "      <td>1</td>\n",
              "      <td>0.395400</td>\n",
              "      <td>0</td>\n",
              "    </tr>\n",
              "  </tbody>\n",
              "</table>\n",
              "</div>\n",
              "      <button class=\"colab-df-convert\" onclick=\"convertToInteractive('df-f67317a1-cd58-4db5-b93a-ead183178286')\"\n",
              "              title=\"Convert this dataframe to an interactive table.\"\n",
              "              style=\"display:none;\">\n",
              "        \n",
              "  <svg xmlns=\"http://www.w3.org/2000/svg\" height=\"24px\"viewBox=\"0 0 24 24\"\n",
              "       width=\"24px\">\n",
              "    <path d=\"M0 0h24v24H0V0z\" fill=\"none\"/>\n",
              "    <path d=\"M18.56 5.44l.94 2.06.94-2.06 2.06-.94-2.06-.94-.94-2.06-.94 2.06-2.06.94zm-11 1L8.5 8.5l.94-2.06 2.06-.94-2.06-.94L8.5 2.5l-.94 2.06-2.06.94zm10 10l.94 2.06.94-2.06 2.06-.94-2.06-.94-.94-2.06-.94 2.06-2.06.94z\"/><path d=\"M17.41 7.96l-1.37-1.37c-.4-.4-.92-.59-1.43-.59-.52 0-1.04.2-1.43.59L10.3 9.45l-7.72 7.72c-.78.78-.78 2.05 0 2.83L4 21.41c.39.39.9.59 1.41.59.51 0 1.02-.2 1.41-.59l7.78-7.78 2.81-2.81c.8-.78.8-2.07 0-2.86zM5.41 20L4 18.59l7.72-7.72 1.47 1.35L5.41 20z\"/>\n",
              "  </svg>\n",
              "      </button>\n",
              "      \n",
              "  <style>\n",
              "    .colab-df-container {\n",
              "      display:flex;\n",
              "      flex-wrap:wrap;\n",
              "      gap: 12px;\n",
              "    }\n",
              "\n",
              "    .colab-df-convert {\n",
              "      background-color: #E8F0FE;\n",
              "      border: none;\n",
              "      border-radius: 50%;\n",
              "      cursor: pointer;\n",
              "      display: none;\n",
              "      fill: #1967D2;\n",
              "      height: 32px;\n",
              "      padding: 0 0 0 0;\n",
              "      width: 32px;\n",
              "    }\n",
              "\n",
              "    .colab-df-convert:hover {\n",
              "      background-color: #E2EBFA;\n",
              "      box-shadow: 0px 1px 2px rgba(60, 64, 67, 0.3), 0px 1px 3px 1px rgba(60, 64, 67, 0.15);\n",
              "      fill: #174EA6;\n",
              "    }\n",
              "\n",
              "    [theme=dark] .colab-df-convert {\n",
              "      background-color: #3B4455;\n",
              "      fill: #D2E3FC;\n",
              "    }\n",
              "\n",
              "    [theme=dark] .colab-df-convert:hover {\n",
              "      background-color: #434B5C;\n",
              "      box-shadow: 0px 1px 3px 1px rgba(0, 0, 0, 0.15);\n",
              "      filter: drop-shadow(0px 1px 2px rgba(0, 0, 0, 0.3));\n",
              "      fill: #FFFFFF;\n",
              "    }\n",
              "  </style>\n",
              "\n",
              "      <script>\n",
              "        const buttonEl =\n",
              "          document.querySelector('#df-f67317a1-cd58-4db5-b93a-ead183178286 button.colab-df-convert');\n",
              "        buttonEl.style.display =\n",
              "          google.colab.kernel.accessAllowed ? 'block' : 'none';\n",
              "\n",
              "        async function convertToInteractive(key) {\n",
              "          const element = document.querySelector('#df-f67317a1-cd58-4db5-b93a-ead183178286');\n",
              "          const dataTable =\n",
              "            await google.colab.kernel.invokeFunction('convertToInteractive',\n",
              "                                                     [key], {});\n",
              "          if (!dataTable) return;\n",
              "\n",
              "          const docLinkHtml = 'Like what you see? Visit the ' +\n",
              "            '<a target=\"_blank\" href=https://colab.research.google.com/notebooks/data_table.ipynb>data table notebook</a>'\n",
              "            + ' to learn more about interactive tables.';\n",
              "          element.innerHTML = '';\n",
              "          dataTable['output_type'] = 'display_data';\n",
              "          await google.colab.output.renderOutput(dataTable, element);\n",
              "          const docLink = document.createElement('div');\n",
              "          docLink.innerHTML = docLinkHtml;\n",
              "          element.appendChild(docLink);\n",
              "        }\n",
              "      </script>\n",
              "    </div>\n",
              "  </div>\n",
              "  "
            ]
          },
          "metadata": {},
          "execution_count": 32
        }
      ]
    }
  ]
}